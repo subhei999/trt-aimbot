{
  "cells": [
    {
      "cell_type": "markdown",
      "metadata": {
        "id": "2gXjoyUkl1Wc"
      },
      "source": [
        "# YOLOv8 Installation"
      ]
    },
    {
      "cell_type": "code",
      "execution_count": null,
      "metadata": {
        "id": "5C4MpBNYlzSa"
      },
      "outputs": [],
      "source": [
        "# Mount Google Drive\n",
        "from google.colab import drive\n",
        "drive.mount('/content/gdrive')"
      ]
    },
    {
      "cell_type": "code",
      "execution_count": 2,
      "metadata": {
        "id": "_2JhsEJEl90q"
      },
      "outputs": [],
      "source": [
        "# Access Google Drive Folder\n",
        "import os\n",
        "os.chdir(\"gdrive/MyDrive\")"
      ]
    },
    {
      "cell_type": "code",
      "execution_count": 3,
      "metadata": {
        "id": "sHi93xhml_L2"
      },
      "outputs": [],
      "source": [
        "# Create YOLOv8 root folder\n",
        "!mkdir yolov8-tensorrt"
      ]
    },
    {
      "cell_type": "code",
      "execution_count": null,
      "metadata": {
        "id": "ptFfBeq5mAa8"
      },
      "outputs": [],
      "source": [
        "# Go to YOLOv8 root folder\n",
        "%cd yolov8-tensorrt"
      ]
    },
    {
      "cell_type": "code",
      "execution_count": null,
      "metadata": {
        "id": "OD26qSXamCfk"
      },
      "outputs": [],
      "source": [
        "# Install YOLOv8\n",
        "%pip install ultralytics\n",
        "\n",
        "import ultralytics\n",
        "ultralytics.checks()"
      ]
    },
    {
      "cell_type": "markdown",
      "metadata": {
        "id": "zJBju7PZmHYc"
      },
      "source": [
        "## Download the Model"
      ]
    },
    {
      "cell_type": "code",
      "execution_count": null,
      "metadata": {
        "id": "hHTp3kVsmKNi"
      },
      "outputs": [],
      "source": [
        "# Download YOLOv8 model\n",
        "!wget https://github.com/ultralytics/assets/releases/download/v0.0.0/yolov8x.pt"
      ]
    },
    {
      "cell_type": "markdown",
      "metadata": {
        "id": "9brSTmpEmLTj"
      },
      "source": [
        "# Tensorrt"
      ]
    },
    {
      "cell_type": "code",
      "execution_count": null,
      "metadata": {
        "id": "VUff5dejmNHu"
      },
      "outputs": [],
      "source": [
        "!pip install tensorrt"
      ]
    },
    {
      "cell_type": "code",
      "execution_count": null,
      "metadata": {
        "id": "e0pZtlcCmQkE"
      },
      "outputs": [],
      "source": [
        "!pip install tensorrt_lean"
      ]
    },
    {
      "cell_type": "code",
      "execution_count": null,
      "metadata": {
        "id": "fAhaRj11mS1m"
      },
      "outputs": [],
      "source": [
        "!pip install tensorrt_dispatch"
      ]
    },
    {
      "cell_type": "code",
      "execution_count": null,
      "metadata": {
        "id": "3zR8n35m5Kp6"
      },
      "outputs": [],
      "source": [
        "!pip install onnx onnxsim onnxruntime-gpu"
      ]
    },
    {
      "cell_type": "code",
      "execution_count": null,
      "metadata": {
        "id": "2UxZjv9JmUaY"
      },
      "outputs": [],
      "source": [
        "import tensorrt\n",
        "print(tensorrt.__version__)\n",
        "assert tensorrt.Builder(tensorrt.Logger())"
      ]
    },
    {
      "cell_type": "code",
      "execution_count": null,
      "metadata": {
        "id": "V62zTVoImXKU"
      },
      "outputs": [],
      "source": [
        "# Export YOLOv8 Model to Tensorrt\n",
        "!yolo export model=yolov8x.pt format=engine half=True device=0 workspace=12"
      ]
    },
    {
      "cell_type": "markdown",
      "metadata": {
        "id": "f8ZYA3k2mgz8"
      },
      "source": [
        "## Inference on Image"
      ]
    },
    {
      "cell_type": "code",
      "execution_count": null,
      "metadata": {
        "id": "3DhS9BTRml_z"
      },
      "outputs": [],
      "source": [
        "# Inference Using YOLOv8 Model\n",
        "!yolo detect predict model=yolov8x.pt source=\"https://ultralytics.com/images/bus.jpg\" device=0"
      ]
    },
    {
      "cell_type": "code",
      "execution_count": 9,
      "metadata": {
        "id": "-QIl5j75mvyB"
      },
      "outputs": [
        {
          "name": "stdout",
          "output_type": "stream",
          "text": [
            "Ultralytics YOLOv8.1.9 🚀 Python-3.11.7 torch-2.1.2+cu118 CUDA:0 (NVIDIA GeForce RTX 4080, 16376MiB)\n",
            "Loading yolov8n.engine for TensorRT inference...\n",
            "[02/08/2024-18:30:31] [TRT] [I] Loaded engine size: 9 MiB\n",
            "[02/08/2024-18:30:32] [TRT] [I] [MemUsageChange] TensorRT-managed allocation in engine deserialization: CPU +0, GPU +6, now: CPU 0, GPU 6 (MiB)\n",
            "[02/08/2024-18:30:32] [TRT] [I] [MemUsageChange] TensorRT-managed allocation in IExecutionContext creation: CPU +0, GPU +17, now: CPU 0, GPU 23 (MiB)\n",
            "\n",
            "image 1/1 c:\\Users\\subhe\\Desktop\\Scripts\\bus.jpg: 640x640 4 persons, 1 bus, 0.0ms\n",
            "Speed: 18.0ms preprocess, 0.0ms inference, 51.9ms postprocess per image at shape (1, 3, 640, 640)\n",
            "Results saved to \u001b[1mruns\\detect\\predict13\u001b[0m\n",
            "💡 Learn more at https://docs.ultralytics.com/modes/predict\n"
          ]
        }
      ],
      "source": [
        "# Inference Using YOLOv8 Tensorrt\n",
        "!yolo detect predict model=yolov8n.engine source=\"bus.jpg\" device=0"
      ]
    },
    {
      "cell_type": "code",
      "execution_count": null,
      "metadata": {
        "id": "6uHSN2qk_ivN"
      },
      "outputs": [],
      "source": [
        "from PIL import Image\n",
        "from IPython.display import display\n",
        "\n",
        "# Load the images\n",
        "image1 = Image.open(\"runs/detect/predict/bus.jpg\")\n",
        "image2 = Image.open(\"runs/detect/predict2/bus.jpg\")\n",
        "\n",
        "w, h = image1.size\n",
        "new_width = int(w/2)\n",
        "new_height = int(h/2)\n",
        "\n",
        "# Resize the images\n",
        "image1 = image1.resize((new_width, new_height))\n",
        "image2 = image2.resize((new_width, new_height))\n",
        "\n",
        "# Display the images side by side\n",
        "display(image1, image2)"
      ]
    },
    {
      "cell_type": "markdown",
      "metadata": {
        "id": "t23v8tX4m3Bi"
      },
      "source": [
        "## mAP"
      ]
    },
    {
      "cell_type": "code",
      "execution_count": null,
      "metadata": {
        "id": "L_VvMCQSm4Zy"
      },
      "outputs": [],
      "source": [
        "# mAP Calculation YOLOv8 Model\n",
        "!yolo detect val model=yolov8x.pt data=coco128.yaml iou=0.5 imgsz=640 name=yolov8x"
      ]
    },
    {
      "cell_type": "code",
      "execution_count": null,
      "metadata": {
        "id": "O0LDOtg8nGE2"
      },
      "outputs": [],
      "source": [
        "# mAP Calculation YOLOv8 Tensorrt\n",
        "!yolo detect val model=yolov8x.engine data=coco128.yaml iou=0.5 imgsz=640 name=yolov8x-tensorrt"
      ]
    },
    {
      "cell_type": "markdown",
      "metadata": {
        "id": "Z7GeHBg_m4km"
      },
      "source": [
        "## Inference on Video"
      ]
    },
    {
      "cell_type": "code",
      "execution_count": 6,
      "metadata": {
        "id": "a1PyUqCanKJW"
      },
      "outputs": [
        {
          "name": "stderr",
          "output_type": "stream",
          "text": [
            "Downloading...\n",
            "From: https://drive.google.com/uc?id=1RskX1wXVF0xSMAPgpkU-EsaUv8tD7lvS\n",
            "To: c:\\Users\\subhe\\Desktop\\Scripts\\modules.zip\n",
            "\n",
            "  0%|          | 0.00/5.39k [00:00<?, ?B/s]\n",
            "100%|██████████| 5.39k/5.39k [00:00<00:00, 688kB/s]\n"
          ]
        }
      ],
      "source": [
        "# Download modules\n",
        "!gdown https://drive.google.com/uc?id=1RskX1wXVF0xSMAPgpkU-EsaUv8tD7lvS"
      ]
    },
    {
      "cell_type": "code",
      "execution_count": 3,
      "metadata": {
        "id": "khIoR0ccnKWK"
      },
      "outputs": [
        {
          "name": "stderr",
          "output_type": "stream",
          "text": [
            "'unzip' is not recognized as an internal or external command,\n",
            "operable program or batch file.\n"
          ]
        }
      ],
      "source": [
        "# Unzip the modules\n",
        "!unzip modules.zip"
      ]
    },
    {
      "cell_type": "code",
      "execution_count": 4,
      "metadata": {
        "id": "ywuQHtHukaAj"
      },
      "outputs": [],
      "source": [
        "# Create inference folder\n",
        "!mkdir inference"
      ]
    },
    {
      "cell_type": "code",
      "execution_count": 1,
      "metadata": {
        "id": "zANblaROkbTH"
      },
      "outputs": [
        {
          "name": "stderr",
          "output_type": "stream",
          "text": [
            "Downloading...\n",
            "From: https://drive.google.com/uc?id=11Z0BMXcKNdQmJNyBejWqU9V6z7gEloMZ\n",
            "To: c:\\Users\\subhe\\Desktop\\Scripts\\road.mp4\n",
            "\n",
            "  0%|          | 0.00/10.1M [00:00<?, ?B/s]\n",
            " 21%|██        | 2.10M/10.1M [00:00<00:00, 17.9MB/s]\n",
            " 47%|████▋     | 4.72M/10.1M [00:00<00:00, 16.0MB/s]\n",
            " 83%|████████▎ | 8.39M/10.1M [00:00<00:00, 22.2MB/s]\n",
            "100%|██████████| 10.1M/10.1M [00:00<00:00, 22.2MB/s]\n"
          ]
        }
      ],
      "source": [
        "# Download the video\n",
        "!gdown https://drive.google.com/uc?id=11Z0BMXcKNdQmJNyBejWqU9V6z7gEloMZ"
      ]
    },
    {
      "cell_type": "code",
      "execution_count": 1,
      "metadata": {
        "id": "N9KXMeCKke7L"
      },
      "outputs": [
        {
          "name": "stderr",
          "output_type": "stream",
          "text": [
            "'mv' is not recognized as an internal or external command,\n",
            "operable program or batch file.\n"
          ]
        }
      ],
      "source": [
        "# Move the video to inference folder\n",
        "!mv road.mp4 inference/"
      ]
    },
    {
      "cell_type": "code",
      "execution_count": 4,
      "metadata": {
        "id": "L3HtPyVwkleD"
      },
      "outputs": [],
      "source": [
        "import torch\n",
        "import cv2\n",
        "import random\n",
        "import time\n",
        "import pathlib\n",
        "from ultralytics import YOLO\n",
        "\n",
        "import modules.utils as utils\n",
        "from modules.autobackend import AutoBackend\n",
        "\n",
        "def tensorrt_detection(model, source, image):\n",
        "    # Preprocess\n",
        "    im = utils.preprocess(image)\n",
        "\n",
        "    # Inference\n",
        "    preds = model(im)\n",
        "\n",
        "    # Post Process\n",
        "    results = utils.postprocess(preds, im, image, model.names, source)\n",
        "    d = results[0].boxes\n",
        "\n",
        "    # Get information from result\n",
        "    tensor_size = d.cls.size()[0]\n",
        "    if(tensor_size > 1):\n",
        "        cls, conf, box = d.cls.squeeze(), d.conf.squeeze(), d.xyxy.squeeze()\n",
        "    else:\n",
        "        cls, conf, box = d.cls, d.conf, d.xyxy\n",
        "\n",
        "    return cls, conf, box\n",
        "\n",
        "def yolov8_detection(model, image):\n",
        "    # Update object localizer\n",
        "    results = model.predict(image, imgsz=640, conf=0.5, verbose=False)\n",
        "    result = results[0].cpu()\n",
        "\n",
        "    # Get information from result\n",
        "    box = result.boxes.xyxy.numpy()\n",
        "    conf = result.boxes.conf.numpy()\n",
        "    cls = result.boxes.cls.numpy().astype(int)\n",
        "\n",
        "    return cls, conf, box\n",
        "\n",
        "def detection(model_path, source, name):\n",
        "  # Check File Extension\n",
        "  file_extension = pathlib.Path(model_path).suffix\n",
        "\n",
        "  if(file_extension == \".engine\"):\n",
        "    model = AutoBackend(model_path, device=torch.device('cuda:0'), fp16=True)\n",
        "    # Warmup\n",
        "    model.warmup()\n",
        "  else:\n",
        "    model = YOLO(model_path)\n",
        "\n",
        "  # Class Name and Colors\n",
        "  label_map = model.names\n",
        "  COLORS = [[random.randint(0, 255) for _ in range(3)] for _ in label_map]\n",
        "\n",
        "  # FPS Detection\n",
        "  frame_count = 0\n",
        "  total_fps = 0\n",
        "  avg_fps = 0\n",
        "\n",
        "  # FPS Video\n",
        "  video_cap = cv2.VideoCapture(source)\n",
        "\n",
        "  total_frames = int(video_cap.get(cv2.CAP_PROP_FRAME_COUNT))\n",
        "  frame_width = int(video_cap.get(3))\n",
        "  frame_height = int(video_cap.get(4))\n",
        "\n",
        "  video_frames = []\n",
        "\n",
        "  while video_cap.isOpened():\n",
        "      ret, frame = video_cap.read()\n",
        "      if not ret:\n",
        "          break\n",
        "\n",
        "      # # Start Time\n",
        "      start = time.time()\n",
        "\n",
        "      # Detection\n",
        "      if(file_extension == \".engine\"):\n",
        "        cls, conf, box = tensorrt_detection(model, source, frame)\n",
        "      else:\n",
        "        cls, conf, box = yolov8_detection(model, frame)\n",
        "\n",
        "      # Pack together for easy use\n",
        "      detection_output = list(zip(cls, conf, box))\n",
        "      image_output = utils.draw_box(frame, detection_output, label_map, COLORS,0,0)\n",
        "\n",
        "      end = time.time()\n",
        "      # # End Time\n",
        "\n",
        "      # Draw FPS\n",
        "      frame_count += 1\n",
        "      fps = 1 / (end - start)\n",
        "      total_fps = total_fps + fps\n",
        "      avg_fps = total_fps / frame_count\n",
        "\n",
        "      image_output = utils.draw_fps(avg_fps, image_output)\n",
        "\n",
        "      # Append frame to array\n",
        "      video_frames.append(image_output)\n",
        "\n",
        "      #\n",
        "      print(\"(%2d / %2d) Frames Processed\" % (frame_count, total_frames))\n",
        "\n",
        "  print(avg_fps)\n",
        "\n",
        "  # Get a file name\n",
        "  file_name = utils.get_name(source)\n",
        "  # Get Save Path\n",
        "  folder_name = name\n",
        "  save_path = utils.get_save_path(file_name, folder_name)\n",
        "  # Create VideoWriter object.\n",
        "  out = cv2.VideoWriter(save_path, cv2.VideoWriter_fourcc(*'XVID'), int(avg_fps), (frame_width, frame_height))\n",
        "\n",
        "  for frame in video_frames:\n",
        "      out.write(frame)\n",
        "\n",
        "  out.release()\n",
        "\n",
        "  print(\"Video is saved in: \"+save_path)"
      ]
    },
    {
      "cell_type": "code",
      "execution_count": 5,
      "metadata": {
        "id": "Fcl651SGko9V"
      },
      "outputs": [
        {
          "ename": "error",
          "evalue": "OpenCV(4.7.0) :-1: error: (-5:Bad argument) in function 'rectangle'\n> Overload resolution failed:\n>  - img is not a numerical tuple\n>  - Expected Ptr<cv::UMat> for argument 'img'\n>  - img is not a numerical tuple\n>  - Expected Ptr<cv::UMat> for argument 'img'\n",
          "output_type": "error",
          "traceback": [
            "\u001b[1;31m---------------------------------------------------------------------------\u001b[0m",
            "\u001b[1;31merror\u001b[0m                                     Traceback (most recent call last)",
            "Cell \u001b[1;32mIn[5], line 1\u001b[0m\n\u001b[1;32m----> 1\u001b[0m \u001b[43mdetection\u001b[49m\u001b[43m(\u001b[49m\u001b[38;5;124;43m\"\u001b[39;49m\u001b[38;5;124;43myolov8x.pt\u001b[39;49m\u001b[38;5;124;43m\"\u001b[39;49m\u001b[43m,\u001b[49m\u001b[43m \u001b[49m\u001b[38;5;124;43m\"\u001b[39;49m\u001b[38;5;124;43minference/road.mp4\u001b[39;49m\u001b[38;5;124;43m\"\u001b[39;49m\u001b[43m,\u001b[49m\u001b[43m \u001b[49m\u001b[38;5;124;43m\"\u001b[39;49m\u001b[38;5;124;43mdetection-yolov8\u001b[39;49m\u001b[38;5;124;43m\"\u001b[39;49m\u001b[43m)\u001b[49m\n",
            "Cell \u001b[1;32mIn[4], line 99\u001b[0m, in \u001b[0;36mdetection\u001b[1;34m(model_path, source, name)\u001b[0m\n\u001b[0;32m     96\u001b[0m total_fps \u001b[38;5;241m=\u001b[39m total_fps \u001b[38;5;241m+\u001b[39m fps\n\u001b[0;32m     97\u001b[0m avg_fps \u001b[38;5;241m=\u001b[39m total_fps \u001b[38;5;241m/\u001b[39m frame_count\n\u001b[1;32m---> 99\u001b[0m image_output \u001b[38;5;241m=\u001b[39m \u001b[43mutils\u001b[49m\u001b[38;5;241;43m.\u001b[39;49m\u001b[43mdraw_fps\u001b[49m\u001b[43m(\u001b[49m\u001b[43mavg_fps\u001b[49m\u001b[43m,\u001b[49m\u001b[43m \u001b[49m\u001b[43mimage_output\u001b[49m\u001b[43m)\u001b[49m\n\u001b[0;32m    101\u001b[0m \u001b[38;5;66;03m# Append frame to array\u001b[39;00m\n\u001b[0;32m    102\u001b[0m video_frames\u001b[38;5;241m.\u001b[39mappend(image_output)\n",
            "File \u001b[1;32mc:\\Users\\subhe\\Desktop\\Scripts\\modules\\utils.py:92\u001b[0m, in \u001b[0;36mdraw_fps\u001b[1;34m(avg_fps, combined_img)\u001b[0m\n\u001b[0;32m     89\u001b[0m \u001b[38;5;28;01mdef\u001b[39;00m \u001b[38;5;21mdraw_fps\u001b[39m(avg_fps, combined_img):        \n\u001b[0;32m     90\u001b[0m     avg_fps_str \u001b[38;5;241m=\u001b[39m \u001b[38;5;28mfloat\u001b[39m(\u001b[38;5;124m\"\u001b[39m\u001b[38;5;132;01m{:.2f}\u001b[39;00m\u001b[38;5;124m\"\u001b[39m\u001b[38;5;241m.\u001b[39mformat(avg_fps))\n\u001b[1;32m---> 92\u001b[0m     \u001b[43mcv2\u001b[49m\u001b[38;5;241;43m.\u001b[39;49m\u001b[43mrectangle\u001b[49m\u001b[43m(\u001b[49m\u001b[43mcombined_img\u001b[49m\u001b[43m,\u001b[49m\u001b[43m \u001b[49m\u001b[43m(\u001b[49m\u001b[38;5;241;43m10\u001b[39;49m\u001b[43m,\u001b[49m\u001b[38;5;241;43m2\u001b[39;49m\u001b[43m)\u001b[49m\u001b[43m,\u001b[49m\u001b[43m \u001b[49m\u001b[43m(\u001b[49m\u001b[38;5;241;43m660\u001b[39;49m\u001b[43m,\u001b[49m\u001b[38;5;241;43m110\u001b[39;49m\u001b[43m)\u001b[49m\u001b[43m,\u001b[49m\u001b[43m \u001b[49m\u001b[43m(\u001b[49m\u001b[38;5;241;43m255\u001b[39;49m\u001b[43m,\u001b[49m\u001b[38;5;241;43m255\u001b[39;49m\u001b[43m,\u001b[49m\u001b[38;5;241;43m255\u001b[39;49m\u001b[43m)\u001b[49m\u001b[43m,\u001b[49m\u001b[43m \u001b[49m\u001b[38;5;241;43m-\u001b[39;49m\u001b[38;5;241;43m1\u001b[39;49m\u001b[43m)\u001b[49m\n\u001b[0;32m     93\u001b[0m     cv2\u001b[38;5;241m.\u001b[39mputText(combined_img, \u001b[38;5;124m\"\u001b[39m\u001b[38;5;124mFPS: \u001b[39m\u001b[38;5;124m\"\u001b[39m\u001b[38;5;241m+\u001b[39m\u001b[38;5;28mstr\u001b[39m(avg_fps_str), (\u001b[38;5;241m20\u001b[39m, \u001b[38;5;241m90\u001b[39m), cv2\u001b[38;5;241m.\u001b[39mFONT_HERSHEY_SIMPLEX, \u001b[38;5;241m3.5\u001b[39m, (\u001b[38;5;241m0\u001b[39m,\u001b[38;5;241m255\u001b[39m,\u001b[38;5;241m0\u001b[39m), thickness\u001b[38;5;241m=\u001b[39m\u001b[38;5;241m6\u001b[39m)\n\u001b[0;32m     95\u001b[0m     \u001b[38;5;28;01mreturn\u001b[39;00m combined_img\n",
            "\u001b[1;31merror\u001b[0m: OpenCV(4.7.0) :-1: error: (-5:Bad argument) in function 'rectangle'\n> Overload resolution failed:\n>  - img is not a numerical tuple\n>  - Expected Ptr<cv::UMat> for argument 'img'\n>  - img is not a numerical tuple\n>  - Expected Ptr<cv::UMat> for argument 'img'\n"
          ]
        }
      ],
      "source": [
        "detection(\"yolov8x.pt\", \"inference/road.mp4\", \"detection-yolov8\")"
      ]
    },
    {
      "cell_type": "code",
      "execution_count": null,
      "metadata": {
        "id": "NTZH7sCHkpfr"
      },
      "outputs": [],
      "source": [
        "# Download the result\n",
        "from google.colab import files\n",
        "\n",
        "files.download('result/detection-yolov8/road.mp4')"
      ]
    },
    {
      "cell_type": "code",
      "execution_count": null,
      "metadata": {
        "id": "_9UVb02-nKaw"
      },
      "outputs": [],
      "source": [
        "detection(\"yolov8x.engine\", \"inference/road.mp4\", \"detection\")"
      ]
    },
    {
      "cell_type": "code",
      "execution_count": null,
      "metadata": {
        "id": "Xjv-OcATnKdD"
      },
      "outputs": [],
      "source": [
        "# Download the result\n",
        "from google.colab import files\n",
        "\n",
        "files.download('result/detection/road.mp4')"
      ]
    }
  ],
  "metadata": {
    "accelerator": "GPU",
    "colab": {
      "gpuType": "T4",
      "provenance": []
    },
    "kernelspec": {
      "display_name": "Python 3",
      "name": "python3"
    },
    "language_info": {
      "codemirror_mode": {
        "name": "ipython",
        "version": 3
      },
      "file_extension": ".py",
      "mimetype": "text/x-python",
      "name": "python",
      "nbconvert_exporter": "python",
      "pygments_lexer": "ipython3",
      "version": "3.11.7"
    }
  },
  "nbformat": 4,
  "nbformat_minor": 0
}
